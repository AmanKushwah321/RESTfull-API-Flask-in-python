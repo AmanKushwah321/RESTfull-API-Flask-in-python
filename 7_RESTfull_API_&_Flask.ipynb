{
  "nbformat": 4,
  "nbformat_minor": 0,
  "metadata": {
    "colab": {
      "provenance": []
    },
    "kernelspec": {
      "name": "python3",
      "display_name": "Python 3"
    },
    "language_info": {
      "name": "python"
    }
  },
  "cells": [
    {
      "cell_type": "markdown",
      "source": [
        "#***Assignment=7 RESTfull API & Flask***"
      ],
      "metadata": {
        "id": "xUlC0vTx8cWu"
      }
    },
    {
      "cell_type": "markdown",
      "source": [
        "# 1. What is a RESTful API?\n",
        "Ans:-\n",
        "- A RESTful API is an architectural style for designing networked applications, using HTTP methods (GET, POST, etc.) to perform CRUD operations on resources, identified by URLs, in a stateless manner.\n",
        "\n",
        "Example:- GET \"/users\" to retrieve user data."
      ],
      "metadata": {
        "id": "TNpH3SAA9XE_"
      }
    },
    {
      "cell_type": "markdown",
      "source": [
        "# 2. Explain the concept of API specification.\n",
        "Ans:-\n",
        "-  An API specification (e.g., OpenAPI) is a document or format that defines the structure, endpoints, parameters, and responses of an API, ensuring consistency and enabling automated testing or documentation.\n",
        "\n",
        "Example:- OpenAPI JSON defines \"/api/users\" with GET method."
      ],
      "metadata": {
        "id": "RChpklby9W_y"
      }
    },
    {
      "cell_type": "markdown",
      "source": [
        "# 3. What is Flask, and why is it popular for building APIs?\n",
        "Ans:-\n",
        "-  Flask is a lightweight, micro web framework in Python for building web applications and APIs. It is popular for its simplicity, flexibility, and minimal setup, allowing quick development.\n",
        "\n",
        "Example:- A basic Flask app with a single route.\n"
      ],
      "metadata": {
        "id": "enVWMRp99W06"
      }
    },
    {
      "cell_type": "markdown",
      "source": [
        "# 4. What is routing in Flask?\n",
        "Ans:\n",
        "-  Routing in Flask maps URLs to functions using the `@app.route()` decorator, determining how the application responds to different HTTP requests.\n",
        "\n",
        "Example:- \"@app.route('/hello')\" maps to a \"hello()\" function."
      ],
      "metadata": {
        "id": "XT1fcZ1O9WmQ"
      }
    },
    {
      "cell_type": "markdown",
      "source": [
        "# 5. How do you create a simple Flask application?\n",
        "Ans:\n",
        "-  Import Flask, create an app instance, define routes with `@app.route()`, and run the app.\n",
        "\n",
        "Example:-\n",
        "\n",
        "from flask import Flask\n",
        "app = Flask(__name__)\n",
        "\n",
        "@app.route('/')\n",
        "def home():\n",
        "    return f\"Hello World!\"\n",
        "\n",
        "if __name__ == '__main__':\n",
        "    app.run(debug=True)"
      ],
      "metadata": {
        "id": "tG2r6nZt_BW1"
      }
    },
    {
      "cell_type": "markdown",
      "source": [
        "# 6. What are HTTP methods used in RESTful APIs?\n",
        "Ans:\n",
        "-  Common HTTP methods are GET (retrieve), POST (create), PUT (update), DELETE (remove), and PATCH (partial update).\n",
        "\n",
        "Example:- POST \"/users\" to create a new user."
      ],
      "metadata": {
        "id": "rtvOi_z1_xQo"
      }
    },
    {
      "cell_type": "markdown",
      "source": [
        "# 7. What is the purpose of the \"@app.route()\" decorator in Flask?\n",
        "Answ:\n",
        " - The `@app.route()` decorator binds a URL to a function, specifying the endpoint and HTTP methods it handles.\n",
        "\n",
        "Example: \"@app.route('/api', methods=['GET'])\"."
      ],
      "metadata": {
        "id": "pL7oPy8i_xNg"
      }
    },
    {
      "cell_type": "markdown",
      "source": [
        "# 8. What is the difference between GET and POST HTTP methods?\n",
        "Ans:-\n",
        "\n",
        "- GET: Retrieves data (idempotent, data in URL).\n",
        "- POST: Submits data to create/update (not idempotent, data in body).\n",
        "**Difference**: GET is for reading; POST is for writing.\n",
        "\n",
        "Example:- GET \"/users?id=1\" vs. POST \"/users\" with JSON."
      ],
      "metadata": {
        "id": "W2EA03DN_xK5"
      }
    },
    {
      "cell_type": "markdown",
      "source": [
        "# 9. How do you handle errors in Flask APIs?\n",
        "Ans:\n",
        "-  Use `abort()` for specific errors (e.g., 404) or custom error handlers with `app.errorhandler()` to return responses.\n",
        "\n",
        "Example:-  \"@app.errorhandler(404)\".\n"
      ],
      "metadata": {
        "id": "LLD1B94Q_xH3"
      }
    },
    {
      "cell_type": "markdown",
      "source": [
        "# 10. How do you connect Flask to a SQL database?\n",
        "Ans:\n",
        "-  Use a library like `SQLAlchemy` or `psycopg2`, configure a database URI, and create a connection.\n",
        "\n",
        "Example:- Via Flask-SQLAlchemy."
      ],
      "metadata": {
        "id": "n16QtWhn_xFh"
      }
    },
    {
      "cell_type": "markdown",
      "source": [
        "# 11. What is the role of Flask-SQLAlchemy?\n",
        "Ans:\n",
        "-  Flask-SQLAlchemy is an extension that simplifies database interactions by integrating SQLAlchemy with Flask, providing ORM capabilities for models and queries.\n",
        "\n",
        "Example:- `db.Model` for defining tables."
      ],
      "metadata": {
        "id": "ohTyB0vI_wsz"
      }
    },
    {
      "cell_type": "markdown",
      "source": [
        "# 12. What are Flask blueprints, and how are they useful?\n",
        "Ans:\n",
        "-  Blueprints are a way to organize Flask applications into modules, useful for structuring large apps by separating routes and logic.\n",
        "\n",
        "Example: from flask import Blueprint(Also See practical question 11)."
      ],
      "metadata": {
        "id": "vGVJly-8AKHr"
      }
    },
    {
      "cell_type": "markdown",
      "source": [
        "# 13. What is the purpose of Flask's request object?\n",
        "Ans:\n",
        "-  The `request` object provides access to incoming request data (e.g., form data, JSON, headers) for processing in routes.\n",
        "\n",
        "Example: `request.json`."
      ],
      "metadata": {
        "id": "yDdpFt46AKE2"
      }
    },
    {
      "cell_type": "markdown",
      "source": [
        "# 14. How do you create a RESTful API endpoint using Flask?\n",
        "Ans:\n",
        "-  Define a route with `@app.route()`, specify HTTP methods, and return data (e.g., JSON) using `jsonify()`.\n",
        "\n",
        "\n",
        "###Example:-\n",
        "\n",
        "from flask import Flask, jsonify\n",
        "\n",
        "app = Flask(__name__)\n",
        "\n",
        "@app.route('/data')\n",
        "def data():\n",
        "    return jsonify({'name': 'Aman', 'age': 27})\n",
        "\n",
        "if __name__ == '__main__':\n",
        "    app.run(debug=True)\n",
        "-------------------------------"
      ],
      "metadata": {
        "id": "F-kcJTJqAKBI"
      }
    },
    {
      "cell_type": "markdown",
      "source": [
        "# 15. What is the purpose of Flask's jsonify() function?\n",
        "Ans:\n",
        "-  `jsonify()` converts a Python dictionary to a JSON response with the correct MIME type, simplifying API responses.\n",
        "\n",
        "Example: `return jsonify({'name': 'Aman'})`.\n"
      ],
      "metadata": {
        "id": "sYsO5CPiAJ9F"
      }
    },
    {
      "cell_type": "markdown",
      "source": [
        "# 16. Explain Flask's url_for() function.\n",
        "Ans:\n",
        "-  `url_for()` generates URLs for routes based on function names and parameters, ensuring dynamic and safe URL creation.\n",
        "\n",
        "Example: `url_for('hello', name='Aman')`."
      ],
      "metadata": {
        "id": "wssQtRtJAdHF"
      }
    },
    {
      "cell_type": "markdown",
      "source": [
        "# 17. How does Flask handle static files (CSS, Javascript, etc.)?\n",
        "Ans:\n",
        "-  Flask serves static files from the `static` folder using `url_for('static', filename='style.css')` in templates.\n",
        "\n",
        "Example:\n",
        "\n",
        "from flask import Flask, url_for\n",
        "app = Flask(__name__)\n",
        "\n",
        "@app.route('/')\n",
        "def home():\n",
        "    return f'<img src=\"{url_for(\"static\", filename=\"image.jpg\")}\" alt=\"Aman image\">'\n",
        "    # Place image.jpg in the static folder\n",
        "\n",
        "if __name__ == '__main__':\n",
        "    app.run(debug=True)"
      ],
      "metadata": {
        "id": "meWimEj2AdBz"
      }
    },
    {
      "cell_type": "markdown",
      "source": [
        "# 18. What is an API specification, and how does it help in building a Flask API?\n",
        "Ans:\n",
        "-  An API specification (e.g., Swagger) defines endpoints and responses, helping in Flask API development by providing documentation and validation.\n",
        "\n",
        "Example: OpenAPI ensures consistent endpoint design."
      ],
      "metadata": {
        "id": "QICX01LcAc-j"
      }
    },
    {
      "cell_type": "markdown",
      "source": [
        "# 19. What are HTTP status codes, and why are they important in a Flask API?\n",
        "Ans:-\n",
        "-  HTTP status codes (e.g., 200, 404, 500) indicate request outcomes. They’re important for clients to understand success or failure.\n",
        "\n",
        "Example: `return '', 404` for not found."
      ],
      "metadata": {
        "id": "185bfHXcAc7U"
      }
    },
    {
      "cell_type": "markdown",
      "source": [
        "# 20. How do you handle POST requests in Flask?\n",
        "**Answer**: Use `@app.route()` with `methods=['POST']` and access data via `request.form` or `request.json`.\n",
        "**Example**: See practical question 20.\n"
      ],
      "metadata": {
        "id": "zYNcbovyAc4G"
      }
    },
    {
      "cell_type": "markdown",
      "source": [
        "# 21. How would you secure a Flask API?\n",
        "Ans: Use HTTPS, JWT authentication, input validation, and Flask extensions like `Flask-HTTPAuth` to secure endpoints.\n",
        "\n",
        "Example: `@auth.login_required`."
      ],
      "metadata": {
        "id": "bkOphwrrAcyE"
      }
    },
    {
      "cell_type": "markdown",
      "source": [
        "# 22. What is the significance of the Flask-RESTful extension?\n",
        "Ans:\n",
        "-  Flask-RESTful simplifies building RESTful APIs by providing tools for resource-based routing and request parsing.\n",
        "\n",
        "Example: `api.add_resource(UserResource, '/users')`."
      ],
      "metadata": {
        "id": "5c6bu0YgAcuu"
      }
    },
    {
      "cell_type": "markdown",
      "source": [
        "# 23. What is the role of Flask's session object?\n",
        "Ans:\n",
        "- The `session` object stores user data across requests, using a signed cookie for security, ideal for maintaining state.\n",
        "\n",
        "Example: `session['user'] = 'Aman'`"
      ],
      "metadata": {
        "id": "OzB5y3ZFAcrX"
      }
    },
    {
      "cell_type": "markdown",
      "source": [
        "# ***Practical Questions***"
      ],
      "metadata": {
        "id": "WwiWq1f4AcoU"
      }
    },
    {
      "cell_type": "code",
      "source": [
        "pip install flask"
      ],
      "metadata": {
        "colab": {
          "base_uri": "https://localhost:8080/"
        },
        "id": "-daWTemcJ1QA",
        "outputId": "f4123e6a-4307-4969-ede7-b744d80e2326"
      },
      "execution_count": null,
      "outputs": [
        {
          "output_type": "stream",
          "name": "stdout",
          "text": [
            "Requirement already satisfied: flask in /usr/local/lib/python3.11/dist-packages (3.1.1)\n",
            "Requirement already satisfied: blinker>=1.9.0 in /usr/local/lib/python3.11/dist-packages (from flask) (1.9.0)\n",
            "Requirement already satisfied: click>=8.1.3 in /usr/local/lib/python3.11/dist-packages (from flask) (8.2.1)\n",
            "Requirement already satisfied: itsdangerous>=2.2.0 in /usr/local/lib/python3.11/dist-packages (from flask) (2.2.0)\n",
            "Requirement already satisfied: jinja2>=3.1.2 in /usr/local/lib/python3.11/dist-packages (from flask) (3.1.6)\n",
            "Requirement already satisfied: markupsafe>=2.1.1 in /usr/local/lib/python3.11/dist-packages (from flask) (3.0.2)\n",
            "Requirement already satisfied: werkzeug>=3.1.0 in /usr/local/lib/python3.11/dist-packages (from flask) (3.1.3)\n"
          ]
        }
      ]
    },
    {
      "cell_type": "markdown",
      "source": [
        "# 1. How do you create a basic Flask application?"
      ],
      "metadata": {
        "id": "aNlx-tFYBJ15"
      }
    },
    {
      "cell_type": "code",
      "source": [
        "from flask import Flask\n",
        "app = Flask(__name__)\n",
        "\n",
        "@app.route('/home')\n",
        "def home():\n",
        "  return f\"Hello, world!\"\n",
        "\n",
        "if __name__ == '__main__':\n",
        "  app.run(debug=True)"
      ],
      "metadata": {
        "colab": {
          "base_uri": "https://localhost:8080/"
        },
        "id": "cIzfIbrNRjuG",
        "outputId": "3b1cb179-7d38-44fc-947c-1433d163048e"
      },
      "execution_count": 2,
      "outputs": [
        {
          "output_type": "stream",
          "name": "stdout",
          "text": [
            " * Serving Flask app '__main__'\n",
            " * Debug mode: on\n"
          ]
        },
        {
          "output_type": "stream",
          "name": "stderr",
          "text": [
            "INFO:werkzeug:\u001b[31m\u001b[1mWARNING: This is a development server. Do not use it in a production deployment. Use a production WSGI server instead.\u001b[0m\n",
            " * Running on http://127.0.0.1:5000\n",
            "INFO:werkzeug:\u001b[33mPress CTRL+C to quit\u001b[0m\n",
            "INFO:werkzeug: * Restarting with stat\n"
          ]
        }
      ]
    },
    {
      "cell_type": "markdown",
      "source": [
        "# 2. How do you serve static files like images or CSS in Flask?"
      ],
      "metadata": {
        "id": "JasQXyjBBJx9"
      }
    },
    {
      "cell_type": "code",
      "source": [
        "#create folder,\n",
        "#folder name>> \"static\">>\n",
        "\n",
        "from flask import Flask, url_for\n",
        "app = Flask(__name__)\n",
        "\n",
        "@app.route('/')\n",
        "def home():\n",
        "    return f'<img src=\"{url_for(\"static\", filename=\"image.jpg\")}\" alt=\"Aman image\">'\n",
        "    # Place image.jpg in the static folder\n",
        "\n",
        "if __name__ == '__main__':\n",
        "    app.run(debug=True)"
      ],
      "metadata": {
        "colab": {
          "base_uri": "https://localhost:8080/"
        },
        "id": "c_zEXtAKQOjm",
        "outputId": "6e3392ff-1389-4bee-fb7e-a5489aed1312"
      },
      "execution_count": 3,
      "outputs": [
        {
          "output_type": "stream",
          "name": "stdout",
          "text": [
            " * Serving Flask app '__main__'\n",
            " * Debug mode: on\n"
          ]
        },
        {
          "output_type": "stream",
          "name": "stderr",
          "text": [
            "INFO:werkzeug:\u001b[31m\u001b[1mWARNING: This is a development server. Do not use it in a production deployment. Use a production WSGI server instead.\u001b[0m\n",
            " * Running on http://127.0.0.1:5000\n",
            "INFO:werkzeug:\u001b[33mPress CTRL+C to quit\u001b[0m\n",
            "INFO:werkzeug: * Restarting with stat\n"
          ]
        }
      ]
    },
    {
      "cell_type": "markdown",
      "source": [
        "# 3. How do you define different routes with different HTTP methods in Flask?"
      ],
      "metadata": {
        "id": "XrMIBOPNBJvu"
      }
    },
    {
      "cell_type": "code",
      "source": [
        "from flask import Flask\n",
        "app = Flask(__name__)\n",
        "\n",
        "@app.route('/greet', methods=['GET'])\n",
        "def get_greet():\n",
        "    return \"Aman’s GET greeting\"\n",
        "\n",
        "@app.route('/greet', methods=['POST'])  #http://127.0.0.1:5000/greet\n",
        "def post_greet():\n",
        "    return \"Aman’s POST greeting\"\n",
        "\n",
        "if __name__ == '__main__':\n",
        "    app.run(debug=True)"
      ],
      "metadata": {
        "colab": {
          "base_uri": "https://localhost:8080/"
        },
        "id": "uyvt921wR7fa",
        "outputId": "0fd8365b-adab-43d1-8132-52e53ca2fa78"
      },
      "execution_count": null,
      "outputs": [
        {
          "output_type": "stream",
          "name": "stdout",
          "text": [
            " * Serving Flask app '__main__'\n",
            " * Debug mode: on\n"
          ]
        },
        {
          "output_type": "stream",
          "name": "stderr",
          "text": [
            "INFO:werkzeug:\u001b[31m\u001b[1mWARNING: This is a development server. Do not use it in a production deployment. Use a production WSGI server instead.\u001b[0m\n",
            " * Running on http://127.0.0.1:5000\n",
            "INFO:werkzeug:\u001b[33mPress CTRL+C to quit\u001b[0m\n",
            "INFO:werkzeug: * Restarting with stat\n"
          ]
        }
      ]
    },
    {
      "cell_type": "markdown",
      "source": [
        "# 4. How do you render HTML templates in Flask?"
      ],
      "metadata": {
        "id": "WiEvQL_pBJf_"
      }
    },
    {
      "cell_type": "code",
      "source": [
        "#i am using vs code\n",
        "#create \"index.html\" file, save in \"templates\" folder.\n",
        "\n",
        "#index.file contain data i given below\n",
        "\n",
        "<!DOCTYPE html>\n",
        "<html lang=\"en\">\n",
        "<head>\n",
        "    <meta charset=\"UTF-8\">\n",
        "    <meta name=\"viewport\" content=\"width=device-width, initial-scale=1.0\">\n",
        "    <title>home page</title>\n",
        "</head>\n",
        "<body>\n",
        "    <h1>welcome to my webpage</h1>\n",
        "    <h2>I'm Aman.<br><h2>\n",
        "    <h3>start learning data analytics.</h3>\n",
        "    <p> i live in agra.</p>\n",
        "</body>\n",
        "</html>\n",
        "\n",
        "\n",
        "#save in \"templates\" folder, \"index.html\"\n",
        "#folder loaction:- Go to>> desktop>>Flask app>>templates>>index.html  (this is my folder location in my system.)"
      ],
      "metadata": {
        "id": "ljAN_wEmePUZ"
      },
      "execution_count": null,
      "outputs": []
    },
    {
      "cell_type": "code",
      "source": [
        "#Python code\n",
        "\n",
        "from flask import Flask, render_template\n",
        "app = Flask(__name__)\n",
        "\n",
        "@app.route('/')\n",
        "def home():\n",
        "    return render_template('index.html', name=\"Aman\")\n",
        "    # Create templates/index.html: <h1>Hello, {{ Aman }}!</h1>\n",
        "\n",
        "if __name__ == '__main__':\n",
        "    app.run(debug=True)"
      ],
      "metadata": {
        "colab": {
          "base_uri": "https://localhost:8080/"
        },
        "id": "IUQ1mC_3WgvC",
        "outputId": "e96548e0-63db-4837-bad6-84cc45205332"
      },
      "execution_count": null,
      "outputs": [
        {
          "output_type": "stream",
          "name": "stdout",
          "text": [
            " * Serving Flask app '__main__'\n",
            " * Debug mode: on\n"
          ]
        },
        {
          "output_type": "stream",
          "name": "stderr",
          "text": [
            "INFO:werkzeug:\u001b[31m\u001b[1mWARNING: This is a development server. Do not use it in a production deployment. Use a production WSGI server instead.\u001b[0m\n",
            " * Running on http://127.0.0.1:5000\n",
            "INFO:werkzeug:\u001b[33mPress CTRL+C to quit\u001b[0m\n",
            "INFO:werkzeug: * Restarting with stat\n"
          ]
        }
      ]
    },
    {
      "cell_type": "markdown",
      "source": [
        "# 5. How can you generate URLs for routes in Flask using url_for?"
      ],
      "metadata": {
        "id": "10TiTiuVBX_i"
      }
    },
    {
      "cell_type": "code",
      "source": [
        "from flask import Flask, url_for\n",
        "app = Flask(__name__)\n",
        "\n",
        "@app.route('/user/<name>')\n",
        "def user(name):\n",
        "    return f\"Welcome, {name}!\"\n",
        "\n",
        "with app.test_request_context():\n",
        "    url = url_for('user', name=\"Aman\")\n",
        "    print(f\"Aman’s URL: {url}\")"
      ],
      "metadata": {
        "colab": {
          "base_uri": "https://localhost:8080/"
        },
        "id": "5BebxHBGZcWR",
        "outputId": "b4b04b78-f512-4529-b6ea-17b56afe86ac"
      },
      "execution_count": null,
      "outputs": [
        {
          "output_type": "stream",
          "name": "stdout",
          "text": [
            "Aman’s URL: /user/Aman\n"
          ]
        }
      ]
    },
    {
      "cell_type": "markdown",
      "source": [
        "# 6. How do you handle forms in Flask?"
      ],
      "metadata": {
        "id": "eEJJXBMZBX75"
      }
    },
    {
      "cell_type": "code",
      "source": [
        "#HTML file code\n",
        "#i am using vs code\n",
        "#create \"form.html\" file, save in \"templates\" folder.\n",
        "\n",
        "#form.file contain data i given below\n",
        "\n",
        "\n",
        "<!DOCTYPE html>\n",
        "<html lang=\"en\">\n",
        "<head>\n",
        "    <meta charset=\"UTF-8\">\n",
        "    <meta name=\"viewport\" content=\"width=device-width, initial-scale=1.0\">\n",
        "    <title>User form</title>\n",
        "</head>\n",
        "<body>\n",
        "    <form method=\"post\" action=\"/form\">\n",
        "        <label>Name</label>\n",
        "        <input name=\"Name\" type=\"text\"><br>\n",
        "        <label>Password</label>\n",
        "        <input name=\"Password\" type=\"password\"><br>\n",
        "        <button type=\"Submit\">submit</button>\n",
        "    </form>\n",
        "</body>\n",
        "</html>\n",
        "\n",
        "\n",
        "\n",
        "#save in \"templates\" folder, \"form.html\"\n",
        "#folder loaction:- Go to>> desktop>>Flask app>>templates>>form.html  (this is my folder location in my system.)"
      ],
      "metadata": {
        "id": "UTCBR1Vcvo2Q"
      },
      "execution_count": null,
      "outputs": []
    },
    {
      "cell_type": "code",
      "source": [
        "from flask import Flask, request\n",
        "app = Flask(__name__)\n",
        "\n",
        "@app.route('/form', methods=['POST'])\n",
        "def form():\n",
        "    name = request.form['name']\n",
        "    return f\"Hello, {name}!\"\n",
        "    # HTML form: <form method=\"POST\" action=\"/form\"><input name=\"name\"><input type=\"submit\"></form>\n",
        "\n",
        "if __name__ == '__main__':\n",
        "    app.run(debug=True)"
      ],
      "metadata": {
        "colab": {
          "base_uri": "https://localhost:8080/"
        },
        "id": "dJRIh-ToZzTJ",
        "outputId": "67923b5f-9036-4394-aaf6-e8d6b6b2693e"
      },
      "execution_count": null,
      "outputs": [
        {
          "output_type": "stream",
          "name": "stdout",
          "text": [
            " * Serving Flask app '__main__'\n",
            " * Debug mode: on\n"
          ]
        },
        {
          "output_type": "stream",
          "name": "stderr",
          "text": [
            "INFO:werkzeug:\u001b[31m\u001b[1mWARNING: This is a development server. Do not use it in a production deployment. Use a production WSGI server instead.\u001b[0m\n",
            " * Running on http://127.0.0.1:5000\n",
            "INFO:werkzeug:\u001b[33mPress CTRL+C to quit\u001b[0m\n",
            "INFO:werkzeug: * Restarting with stat\n"
          ]
        }
      ]
    },
    {
      "cell_type": "markdown",
      "source": [
        "# 7. How can you validate form data in Flask?"
      ],
      "metadata": {
        "id": "cvfEeH3BBX5O"
      }
    },
    {
      "cell_type": "code",
      "source": [
        "pip install wtforms"
      ],
      "metadata": {
        "colab": {
          "base_uri": "https://localhost:8080/"
        },
        "id": "i5_thWAhfLz4",
        "outputId": "adb6bfaf-00b4-4202-f171-9215fe90a770",
        "collapsed": true
      },
      "execution_count": null,
      "outputs": [
        {
          "output_type": "stream",
          "name": "stdout",
          "text": [
            "Collecting wtforms\n",
            "  Downloading wtforms-3.2.1-py3-none-any.whl.metadata (5.3 kB)\n",
            "Requirement already satisfied: markupsafe in /usr/local/lib/python3.11/dist-packages (from wtforms) (3.0.2)\n",
            "Downloading wtforms-3.2.1-py3-none-any.whl (152 kB)\n",
            "\u001b[?25l   \u001b[90m━━━━━━━━━━━━━━━━━━━━━━━━━━━━━━━━━━━━━━━━\u001b[0m \u001b[32m0.0/152.5 kB\u001b[0m \u001b[31m?\u001b[0m eta \u001b[36m-:--:--\u001b[0m\r\u001b[2K   \u001b[91m━━━━━━━━━━━━━━━━━━━━━━━━━━━━━━━━━━━━━\u001b[0m\u001b[91m╸\u001b[0m\u001b[90m━━\u001b[0m \u001b[32m143.4/152.5 kB\u001b[0m \u001b[31m5.4 MB/s\u001b[0m eta \u001b[36m0:00:01\u001b[0m\r\u001b[2K   \u001b[90m━━━━━━━━━━━━━━━━━━━━━━━━━━━━━━━━━━━━━━━━\u001b[0m \u001b[32m152.5/152.5 kB\u001b[0m \u001b[31m4.0 MB/s\u001b[0m eta \u001b[36m0:00:00\u001b[0m\n",
            "\u001b[?25hInstalling collected packages: wtforms\n",
            "Successfully installed wtforms-3.2.1\n"
          ]
        }
      ]
    },
    {
      "cell_type": "code",
      "source": [
        "wtforms"
      ],
      "metadata": {
        "id": "JDSDRZYJP6vM"
      },
      "execution_count": null,
      "outputs": []
    },
    {
      "cell_type": "code",
      "source": [
        "#html file code\n",
        "\n",
        "<!DOCTYPE html>\n",
        "<html lang=\"en\">\n",
        "<head>\n",
        "    <meta charset=\"UTF-8\">\n",
        "    <title>Aman’s Validation</title> <!-- Using your name -->\n",
        "</head>\n",
        "<body>\n",
        "    <h1>Validate Name</h1>\n",
        "    <form method=\"POST\" action=\"/validate\">\n",
        "        {{ form.name() }}<br>\n",
        "        <input type=\"submit\" value=\"Submit\">\n",
        "    </form>\n",
        "    {% if form.errors %}\n",
        "        <p>Errors: {{ form.errors }}</p>\n",
        "    {% endif %}\n",
        "</body>\n",
        "</html>\n",
        "\n",
        "\n",
        "#save as validate.html"
      ],
      "metadata": {
        "id": "jem_fgeMSCWW"
      },
      "execution_count": null,
      "outputs": []
    },
    {
      "cell_type": "code",
      "source": [
        "#Python code\n",
        "\n",
        "from flask import Flask, request, render_template\n",
        "from wtforms import Form, StringField, validators\n",
        "\n",
        "app = Flask(_name_)\n",
        "\n",
        "class MyForm(Form):\n",
        "    name = StringField('name', [validators.Length(min=1, max=20)])\n",
        "\n",
        "@app.route('/validate', methods=['GET', 'POST'])\n",
        "def validate():\n",
        "    form = MyForm(request.form)\n",
        "    if request.method == 'POST' and form.validate():\n",
        "        return f\"Valid: {form.name.data}\"\n",
        "    return render_template('validate.html', form=form)\n",
        "\n",
        "if _name_ == '_main_':\n",
        "    app.run(debug=True)"
      ],
      "metadata": {
        "colab": {
          "base_uri": "https://localhost:8080/"
        },
        "id": "VJCXkxpPb44N",
        "outputId": "61c160e2-ded1-4f11-f5bd-35bad572cbde"
      },
      "execution_count": null,
      "outputs": [
        {
          "output_type": "stream",
          "name": "stdout",
          "text": [
            " * Serving Flask app '__main__'\n",
            " * Debug mode: on\n"
          ]
        },
        {
          "output_type": "stream",
          "name": "stderr",
          "text": [
            "INFO:werkzeug:\u001b[31m\u001b[1mWARNING: This is a development server. Do not use it in a production deployment. Use a production WSGI server instead.\u001b[0m\n",
            " * Running on http://127.0.0.1:5000\n",
            "INFO:werkzeug:\u001b[33mPress CTRL+C to quit\u001b[0m\n",
            "INFO:werkzeug: * Restarting with stat\n"
          ]
        }
      ]
    },
    {
      "cell_type": "markdown",
      "source": [
        "# 8. How do you manage sessions in Flask?"
      ],
      "metadata": {
        "id": "I0IlxnE_BX25"
      }
    },
    {
      "cell_type": "code",
      "source": [
        "from flask import Flask, session\n",
        "app = Flask(__name__)\n",
        "app.secret_key = 'AmanKey'\n",
        "\n",
        "@app.route('/set')\n",
        "def set_session():\n",
        "    session['user'] = 'Aman'\n",
        "    return \"Session set\"\n",
        "\n",
        "@app.route('/get')\n",
        "def get_session():\n",
        "    return session.get('user', 'No user')\n",
        "\n",
        "if __name__ == '__main__':\n",
        "    app.run(debug=True)\n",
        "\n",
        "#enter this for running>>  http://127.0.0.1:5000/set\n",
        "#enter this for running>>  http://127.0.0.1:5000/get"
      ],
      "metadata": {
        "colab": {
          "base_uri": "https://localhost:8080/"
        },
        "id": "Ig46L3RBffoK",
        "outputId": "e4c4ab17-c0d6-4124-e9fb-db2803a86a70"
      },
      "execution_count": null,
      "outputs": [
        {
          "output_type": "stream",
          "name": "stdout",
          "text": [
            " * Serving Flask app '__main__'\n",
            " * Debug mode: on\n"
          ]
        },
        {
          "output_type": "stream",
          "name": "stderr",
          "text": [
            "INFO:werkzeug:\u001b[31m\u001b[1mWARNING: This is a development server. Do not use it in a production deployment. Use a production WSGI server instead.\u001b[0m\n",
            " * Running on http://127.0.0.1:5000\n",
            "INFO:werkzeug:\u001b[33mPress CTRL+C to quit\u001b[0m\n",
            "INFO:werkzeug: * Restarting with stat\n"
          ]
        }
      ]
    },
    {
      "cell_type": "markdown",
      "source": [
        "# 9. How do you redirect to a different route in Flask?"
      ],
      "metadata": {
        "id": "idCQTEbQBX0V"
      }
    },
    {
      "cell_type": "code",
      "source": [
        "from flask import Flask, redirect, url_for\n",
        "app = Flask(__name__)\n",
        "\n",
        "@app.route('/old')\n",
        "def old_route():\n",
        "    return redirect(url_for('new_route'))\n",
        "\n",
        "@app.route('/new')\n",
        "def new_route():\n",
        "    return \"Aman’s new route\"\n",
        "\n",
        "if __name__ == '__main__':\n",
        "    app.run(debug=True)\n",
        "\n",
        "#enter this for running>>  http://127.0.0.1:5000/old\n",
        "#enter this for running>>  http://127.0.0.1:5000/new"
      ],
      "metadata": {
        "colab": {
          "base_uri": "https://localhost:8080/"
        },
        "id": "IQuAs7yxfs70",
        "outputId": "99795ee6-f9a3-481d-d58f-4688c684cd55"
      },
      "execution_count": null,
      "outputs": [
        {
          "output_type": "stream",
          "name": "stdout",
          "text": [
            " * Serving Flask app '__main__'\n",
            " * Debug mode: on\n"
          ]
        },
        {
          "output_type": "stream",
          "name": "stderr",
          "text": [
            "INFO:werkzeug:\u001b[31m\u001b[1mWARNING: This is a development server. Do not use it in a production deployment. Use a production WSGI server instead.\u001b[0m\n",
            " * Running on http://127.0.0.1:5000\n",
            "INFO:werkzeug:\u001b[33mPress CTRL+C to quit\u001b[0m\n",
            "INFO:werkzeug: * Restarting with stat\n"
          ]
        }
      ]
    },
    {
      "cell_type": "markdown",
      "source": [
        "# 10. How do you handle errors in Flask (e.g., 404)?"
      ],
      "metadata": {
        "id": "cyBCyhgbBzj0"
      }
    },
    {
      "cell_type": "code",
      "source": [
        "from flask import Flask\n",
        "app = Flask(__name__)\n",
        "\n",
        "@app.errorhandler(404)\n",
        "def not_found(error):\n",
        "    return \"Aman: Page not found (404)\"\n",
        "\n",
        "@app.route('/nonexistent')\n",
        "def nonexistent():\n",
        "    return \"This won’t be reached\"\n",
        "\n",
        "if __name__ == '__main__':\n",
        "    app.run(debug=True)\n",
        "\n",
        "\n",
        "#enter this for running>>  http://127.0.0.1:5000                 output:- \"Aman: Page not found (404)\n",
        "#enter this for running>>  http://127.0.0.1:5000/nonexisten      output:- This won’t be reached"
      ],
      "metadata": {
        "colab": {
          "base_uri": "https://localhost:8080/"
        },
        "id": "GirRsW9Pg0Tc",
        "outputId": "91053e71-771d-4f84-b676-73594e2b5a26"
      },
      "execution_count": null,
      "outputs": [
        {
          "output_type": "stream",
          "name": "stdout",
          "text": [
            " * Serving Flask app '__main__'\n",
            " * Debug mode: on\n"
          ]
        },
        {
          "output_type": "stream",
          "name": "stderr",
          "text": [
            "INFO:werkzeug:\u001b[31m\u001b[1mWARNING: This is a development server. Do not use it in a production deployment. Use a production WSGI server instead.\u001b[0m\n",
            " * Running on http://127.0.0.1:5000\n",
            "INFO:werkzeug:\u001b[33mPress CTRL+C to quit\u001b[0m\n",
            "INFO:werkzeug: * Restarting with stat\n"
          ]
        }
      ]
    },
    {
      "cell_type": "markdown",
      "source": [
        "# 11. How do you structure a Flask app using Blueprints?"
      ],
      "metadata": {
        "id": "oFd9vGhjBzhB"
      }
    },
    {
      "cell_type": "code",
      "source": [
        "from flask import Flask\n",
        "from flask import Blueprint\n",
        "\n",
        "auth_bp = Blueprint('auth', __name__)\n",
        "\n",
        "@auth_bp.route('/login')\n",
        "def login():\n",
        "    return \"login page\"\n",
        "\n",
        "app = Flask(__name__)\n",
        "app.register_blueprint(auth_bp, url_prefix='/auth')\n",
        "\n",
        "if __name__ == '__main__':\n",
        "    app.run(debug=True)\n",
        "\n",
        "\n",
        "#enter this for running>>  http://127.0.0.1:5000/auth/login\n",
        "\n",
        "#output is:-                  login page"
      ],
      "metadata": {
        "colab": {
          "base_uri": "https://localhost:8080/"
        },
        "id": "mkI98D1GhMow",
        "outputId": "d877cd95-8f54-4622-986b-f46b215899e6"
      },
      "execution_count": null,
      "outputs": [
        {
          "output_type": "stream",
          "name": "stdout",
          "text": [
            " * Serving Flask app '__main__'\n",
            " * Debug mode: on\n"
          ]
        },
        {
          "output_type": "stream",
          "name": "stderr",
          "text": [
            "INFO:werkzeug:\u001b[31m\u001b[1mWARNING: This is a development server. Do not use it in a production deployment. Use a production WSGI server instead.\u001b[0m\n",
            " * Running on http://127.0.0.1:5000\n",
            "INFO:werkzeug:\u001b[33mPress CTRL+C to quit\u001b[0m\n",
            "INFO:werkzeug: * Restarting with stat\n"
          ]
        }
      ]
    },
    {
      "cell_type": "markdown",
      "source": [
        "# 12. How do you define a custom Jinja filter in Flask?"
      ],
      "metadata": {
        "id": "2SQaitD_BzeI"
      }
    },
    {
      "cell_type": "code",
      "source": [
        "#HTML File\n",
        "\n",
        "#i am using vs code\n",
        "#create \"index.html\" file, save in \"templates\" folder.\n",
        "#index.file contain data i given below\n",
        "\n",
        "\n",
        "<!DOCTYPE html>\n",
        "<html lang=\"en\">\n",
        "<head>\n",
        "    <meta charset=\"UTF-8\">\n",
        "    <title>Aman’s Reverse Filter</title>\n",
        "</head>\n",
        "<body>\n",
        "    <h1>Original: {{ text }}</h1>\n",
        "    <h1>Reversed: {{ text | reverse }}</h1>\n",
        "    <p>Age Reversed: {{ age | reverse }}</p>\n",
        "</body>\n",
        "</html>\n",
        "\n",
        "\n",
        "\n",
        "#save in \"templates\" folder, \"index.html\"\n",
        "#folder loaction:- Go to>> desktop>>Flask app>>templates>>index.html  (this is my folder location in my system.)"
      ],
      "metadata": {
        "id": "_pWGNZnH48OL"
      },
      "execution_count": null,
      "outputs": []
    },
    {
      "cell_type": "code",
      "source": [
        "#Python code\n",
        "\n",
        "from flask import Flask, render_template\n",
        "\n",
        "app = Flask(_name_)\n",
        "\n",
        "@app.template_filter('reverse')\n",
        "def reverse_filter(s):\n",
        "    return s[::-1] if isinstance(s, str) else str(s)[::-1]\n",
        "\n",
        "@app.route('/')\n",
        "def home():\n",
        "    return render_template('index.html', text=\"Aman\", age=21)\n",
        "\n",
        "if _name_ == '_main_':\n",
        "    app.run(debug=True)\n",
        "\n",
        "\n",
        "#output:-\n",
        "#      namA\n",
        "#      12"
      ],
      "metadata": {
        "colab": {
          "base_uri": "https://localhost:8080/"
        },
        "id": "peuxvfO3ho4G",
        "outputId": "87636e2d-9167-4143-ca23-0dfb6657ab83"
      },
      "execution_count": null,
      "outputs": [
        {
          "output_type": "stream",
          "name": "stdout",
          "text": [
            " * Serving Flask app '__main__'\n",
            " * Debug mode: on\n"
          ]
        },
        {
          "output_type": "stream",
          "name": "stderr",
          "text": [
            "INFO:werkzeug:\u001b[31m\u001b[1mWARNING: This is a development server. Do not use it in a production deployment. Use a production WSGI server instead.\u001b[0m\n",
            " * Running on http://127.0.0.1:5000\n",
            "INFO:werkzeug:\u001b[33mPress CTRL+C to quit\u001b[0m\n",
            "INFO:werkzeug: * Restarting with stat\n"
          ]
        }
      ]
    },
    {
      "cell_type": "markdown",
      "source": [
        "# 13. How can you redirect with query parameters in Flask?"
      ],
      "metadata": {
        "id": "palx2jC7BzZz"
      }
    },
    {
      "cell_type": "code",
      "source": [
        "from flask import Flask, redirect, url_for\n",
        "\n",
        "app = Flask(__name__)\n",
        "\n",
        "@app.route('/redirect')\n",
        "def redirect_with_params():\n",
        "    return redirect(url_for('destination', name=\"Aman\", age=29))\n",
        "\n",
        "@app.route('/destination')\n",
        "def destination():\n",
        "    name = request.args.get('name')\n",
        "    age = request.args.get('age')\n",
        "    return f\"Welcome {name}, age {age}\"\n",
        "\n",
        "if __name__ == '__main__':\n",
        "    app.run(debug=True)"
      ],
      "metadata": {
        "id": "78k3fgMakGa8"
      },
      "execution_count": null,
      "outputs": []
    },
    {
      "cell_type": "markdown",
      "source": [
        "# 14. How do you return JSON responses in Flask?"
      ],
      "metadata": {
        "id": "gUK38JsZCGz7"
      }
    },
    {
      "cell_type": "code",
      "source": [
        "from flask import Flask, jsonify\n",
        "\n",
        "app = Flask(__name__)\n",
        "\n",
        "@app.route('/data')\n",
        "def data():\n",
        "    return jsonify({'name': 'Aman', 'age': 29})\n",
        "\n",
        "if __name__ == '__main__':\n",
        "    app.run(debug=True)\n",
        "\n",
        "\n",
        "#enter this for running>>      http://127.0.0.1:5000/data\n",
        "#output:-\n",
        "#         age\t29\n",
        "#         name\t\"Aman\""
      ],
      "metadata": {
        "id": "FCTa85NZlULD"
      },
      "execution_count": null,
      "outputs": []
    },
    {
      "cell_type": "markdown",
      "source": [
        "# 15. How do you capture URL parameters in Flask?"
      ],
      "metadata": {
        "id": "XpKCJD2A82jH"
      }
    },
    {
      "cell_type": "code",
      "source": [
        "from flask import Flask\n",
        "\n",
        "app = Flask(__name__)\n",
        "\n",
        "@app.route('/user/<username>')\n",
        "def show_user(username):\n",
        "    return f\"Aman sees user: {username}\"\n",
        "\n",
        "if __name__ == '__main__':\n",
        "    app.run(debug=True)\n",
        "\n",
        "\n",
        "#enter this for running>>  http://127.0.0.1:5000/user/<username>\n",
        "\n",
        "\n",
        "\n",
        "#output:-      Aman sees user:"
      ],
      "metadata": {
        "id": "1E6t9NLdlo_H"
      },
      "execution_count": null,
      "outputs": []
    }
  ]
}